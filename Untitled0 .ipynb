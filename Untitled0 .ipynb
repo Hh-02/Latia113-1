{
  "nbformat": 4,
  "nbformat_minor": 0,
  "metadata": {
    "colab": {
      "provenance": []
    },
    "kernelspec": {
      "name": "python3",
      "display_name": "Python 3"
    },
    "language_info": {
      "name": "python"
    }
  },
  "cells": [
    {
      "cell_type": "markdown",
      "source": [
        "*斜體文字*"
      ],
      "metadata": {
        "id": "P1_w3oCCyTrg"
      }
    },
    {
      "cell_type": "code",
      "source": [
        "a=1\n",
        "print(a)"
      ],
      "metadata": {
        "colab": {
          "base_uri": "https://localhost:8080/"
        },
        "id": "1ycBsvvsn-Zr",
        "outputId": "f9ea2316-a1a4-4e74-d43c-1ff3c6ea8ace"
      },
      "execution_count": 23,
      "outputs": [
        {
          "output_type": "stream",
          "name": "stdout",
          "text": [
            "1\n"
          ]
        }
      ]
    },
    {
      "cell_type": "code",
      "source": [
        "a=1\n",
        "b=c=a\n",
        "print(a)\n",
        "print(b)\n",
        "print(c)"
      ],
      "metadata": {
        "colab": {
          "base_uri": "https://localhost:8080/"
        },
        "id": "qVSKOAUQvMZ_",
        "outputId": "f1a3fef6-e165-447e-dd69-6d9ffa773a2c"
      },
      "execution_count": 41,
      "outputs": [
        {
          "output_type": "stream",
          "name": "stdout",
          "text": [
            "1\n",
            "1\n",
            "1\n"
          ]
        }
      ]
    },
    {
      "cell_type": "code",
      "source": [
        "a=1\n",
        "b=a\n",
        "a=2\n",
        "print(a)\n",
        "print(b)"
      ],
      "metadata": {
        "colab": {
          "base_uri": "https://localhost:8080/"
        },
        "id": "h6rBxYCkwoPy",
        "outputId": "56bd8122-e727-4ef4-c4dc-7a5d8806ffeb"
      },
      "execution_count": 42,
      "outputs": [
        {
          "output_type": "stream",
          "name": "stdout",
          "text": [
            "2\n",
            "1\n"
          ]
        }
      ]
    },
    {
      "cell_type": "code",
      "source": [
        "a = '0123456789abcdef'\n",
        "print(a[0])\n",
        "print(a[3])\n",
        "print(a[-1])\n",
        "print(a[:])\n",
        "print(a[5:])\n",
        "print(a[:5])\n",
        "print(a[5:10])\n",
        "print(a[5:-3])\n",
        "print(a[5:10:2])"
      ],
      "metadata": {
        "colab": {
          "base_uri": "https://localhost:8080/"
        },
        "id": "t3WFHH7JwwzW",
        "outputId": "b459b07d-d821-430f-eddd-fd61993e9acf"
      },
      "execution_count": 44,
      "outputs": [
        {
          "output_type": "stream",
          "name": "stdout",
          "text": [
            "0\n",
            "3\n",
            "f\n",
            "0123456789abcdef\n",
            "56789abcdef\n",
            "01234\n",
            "56789\n",
            "56789abc\n",
            "579\n"
          ]
        }
      ]
    },
    {
      "cell_type": "code",
      "source": [
        "a='hello world'\n",
        "print(len(a))"
      ],
      "metadata": {
        "colab": {
          "base_uri": "https://localhost:8080/"
        },
        "id": "c8wXV6LkWt77",
        "outputId": "e9ecb7cf-17fe-4034-c0cc-a392af3b2850"
      },
      "execution_count": null,
      "outputs": [
        {
          "output_type": "stream",
          "name": "stdout",
          "text": [
            "11\n"
          ]
        }
      ]
    },
    {
      "cell_type": "code",
      "source": [
        "a='hello world,l am oxxo,how are you?'\n",
        "b=a.split(',')\n",
        "c=a.split(' ')\n",
        "d=a.split()\n",
        "print(b)\n",
        "print(c)\n",
        "print(d)"
      ],
      "metadata": {
        "colab": {
          "base_uri": "https://localhost:8080/"
        },
        "id": "7ZYpmaAYXbjT",
        "outputId": "8709433e-88a8-4cb5-a6d8-b45219ab8443"
      },
      "execution_count": null,
      "outputs": [
        {
          "output_type": "stream",
          "name": "stdout",
          "text": [
            "['hello world', 'l am oxxo', 'how are you?']\n",
            "['hello', 'world,l', 'am', 'oxxo,how', 'are', 'you?']\n",
            "['hello', 'world,l', 'am', 'oxxo,how', 'are', 'you?']\n"
          ]
        }
      ]
    },
    {
      "cell_type": "code",
      "source": [
        "t=('apple','banana','orange','grap')\n",
        "a,b,c,d=t\n",
        "print(a)\n",
        "print(b)\n",
        "print(c)\n",
        "print(d)"
      ],
      "metadata": {
        "colab": {
          "base_uri": "https://localhost:8080/"
        },
        "id": "K0aAvM58eItt",
        "outputId": "b6a3b323-8d6c-415a-da9c-849a7f5f7031"
      },
      "execution_count": 19,
      "outputs": [
        {
          "output_type": "stream",
          "name": "stdout",
          "text": [
            "apple\n",
            "banana\n",
            "orange\n",
            "grap\n"
          ]
        }
      ]
    },
    {
      "cell_type": "code",
      "source": [
        "t=('apple','banana','orange','grap')\n",
        "print(t[0])\n",
        "print(t[1])\n",
        "print(t[2])\n",
        "print(t[3])"
      ],
      "metadata": {
        "colab": {
          "base_uri": "https://localhost:8080/"
        },
        "id": "o9j0SXy2e27W",
        "outputId": "7b9d7a82-28da-4f13-91f6-b8192336a35d"
      },
      "execution_count": 20,
      "outputs": [
        {
          "output_type": "stream",
          "name": "stdout",
          "text": [
            "apple\n",
            "banana\n",
            "orange\n",
            "grap\n"
          ]
        }
      ]
    },
    {
      "cell_type": "code",
      "source": [
        "t1 = ('apple','banana','orange')\n",
        "t2 = ('grap','pineapple')\n",
        "t=t1+t2\n",
        "print(t)"
      ],
      "metadata": {
        "colab": {
          "base_uri": "https://localhost:8080/"
        },
        "id": "QGDOGQJWxWbX",
        "outputId": "8adf4c4b-6b83-4c53-f5f6-295e99996966"
      },
      "execution_count": 45,
      "outputs": [
        {
          "output_type": "stream",
          "name": "stdout",
          "text": [
            "('apple', 'banana', 'orange', 'grap', 'pineapple')\n"
          ]
        }
      ]
    },
    {
      "cell_type": "code",
      "source": [
        "a=2\n",
        "b=3\n",
        "if a>b:\n",
        "  print('hello')\n",
        "print('ok')"
      ],
      "metadata": {
        "colab": {
          "base_uri": "https://localhost:8080/"
        },
        "id": "yBO51O68oImt",
        "outputId": "82c8e0f2-aa3e-46db-e8d7-cb6420fd1d46"
      },
      "execution_count": 27,
      "outputs": [
        {
          "output_type": "stream",
          "name": "stdout",
          "text": [
            "ok\n"
          ]
        }
      ]
    },
    {
      "cell_type": "code",
      "source": [
        "a=2\n",
        "b=3\n",
        "if a>b:\n",
        "  print('hello')\n",
        "else:\n",
        "  print('world')\n",
        "print('ok')"
      ],
      "metadata": {
        "colab": {
          "base_uri": "https://localhost:8080/"
        },
        "id": "anKUqY-3qKDt",
        "outputId": "27954d59-a335-4999-9d80-d8a5943b00ab"
      },
      "execution_count": 28,
      "outputs": [
        {
          "output_type": "stream",
          "name": "stdout",
          "text": [
            "world\n",
            "ok\n"
          ]
        }
      ]
    },
    {
      "cell_type": "code",
      "source": [
        "a=2\n",
        "b=3\n",
        "if a<b:\n",
        "  print('a<b')\n",
        "if a==1:\n",
        "  print('a=1')\n",
        "if a==1:\n",
        "  print('a=2')\n",
        "if a==1:\n",
        "  print('a=3')\n",
        "elif  a>b:\n",
        "  print('a>b')\n",
        "else:\n",
        "  print('a=b')\n",
        "print('ok')"
      ],
      "metadata": {
        "colab": {
          "base_uri": "https://localhost:8080/"
        },
        "id": "xhEPitYeqsrX",
        "outputId": "92be9927-02fd-49ce-f996-b4ba4d390ed1"
      },
      "execution_count": 29,
      "outputs": [
        {
          "output_type": "stream",
          "name": "stdout",
          "text": [
            "a<b\n",
            "a=b\n",
            "ok\n"
          ]
        }
      ]
    },
    {
      "cell_type": "code",
      "source": [
        "a=2\n",
        "b=3\n",
        "c=0\n",
        "if  a>b or  a<c and a==2  or  b==4:\n",
        "  print('ok1')\n",
        "else:\n",
        "  print('xxx')"
      ],
      "metadata": {
        "colab": {
          "base_uri": "https://localhost:8080/"
        },
        "id": "ESILX-rRrVNH",
        "outputId": "60c87d5e-f84b-4f73-a6c4-6732e0687fd5"
      },
      "execution_count": 32,
      "outputs": [
        {
          "output_type": "stream",
          "name": "stdout",
          "text": [
            "xxx\n"
          ]
        }
      ]
    },
    {
      "cell_type": "code",
      "source": [
        "for i in 'abc':\n",
        "  print(i)"
      ],
      "metadata": {
        "colab": {
          "base_uri": "https://localhost:8080/"
        },
        "id": "eWNDSQ8Vx-P2",
        "outputId": "7a08a60b-c12e-45df-8f18-77c3010f4bda"
      },
      "execution_count": 46,
      "outputs": [
        {
          "output_type": "stream",
          "name": "stdout",
          "text": [
            "a\n",
            "b\n",
            "c\n"
          ]
        }
      ]
    },
    {
      "cell_type": "code",
      "source": [
        "for a in['x','y','z']:\n",
        "  for b in [1,2,3]:\n",
        "    print(b)\n",
        "print(a)"
      ],
      "metadata": {
        "colab": {
          "base_uri": "https://localhost:8080/"
        },
        "id": "-sE3z6P9sD46",
        "outputId": "24a00313-fd2b-46e6-8f5d-70cf8e9f2bb6"
      },
      "execution_count": 33,
      "outputs": [
        {
          "output_type": "stream",
          "name": "stdout",
          "text": [
            "1\n",
            "2\n",
            "3\n",
            "1\n",
            "2\n",
            "3\n",
            "1\n",
            "2\n",
            "3\n",
            "z\n"
          ]
        }
      ]
    },
    {
      "cell_type": "code",
      "source": [
        "for a in['x','y','z']:\n",
        "  for b in [1,2,3]:\n",
        "    print(f'{a}{b}')"
      ],
      "metadata": {
        "colab": {
          "base_uri": "https://localhost:8080/"
        },
        "id": "xdEJfhWlsmbQ",
        "outputId": "d8ab1e4b-03a5-4af9-c954-fa5237842f7c"
      },
      "execution_count": 34,
      "outputs": [
        {
          "output_type": "stream",
          "name": "stdout",
          "text": [
            "x1\n",
            "x2\n",
            "x3\n",
            "y1\n",
            "y2\n",
            "y3\n",
            "z1\n",
            "z2\n",
            "z3\n"
          ]
        }
      ]
    },
    {
      "cell_type": "code",
      "source": [
        "i = []\n",
        "for t in range(10):\n",
        "  t+=1\n",
        "  i.append(t)\n",
        "i"
      ],
      "metadata": {
        "colab": {
          "base_uri": "https://localhost:8080/"
        },
        "id": "MLQYifC4tCnN",
        "outputId": "f3ce0968-1768-40d8-bcfe-4278142e7fd6"
      },
      "execution_count": 37,
      "outputs": [
        {
          "output_type": "execute_result",
          "data": {
            "text/plain": [
              "[1, 2, 3, 4, 5, 6, 7, 8, 9, 10]"
            ]
          },
          "metadata": {},
          "execution_count": 37
        }
      ]
    },
    {
      "cell_type": "code",
      "source": [
        "try:\n",
        "  a=input('輸入數字:')\n",
        "  print(a+1)\n",
        "except:\n",
        "  pass\n",
        "print('hello')"
      ],
      "metadata": {
        "colab": {
          "base_uri": "https://localhost:8080/"
        },
        "id": "Sy8cWJc1taho",
        "outputId": "5670072b-367e-48ff-c7ff-fa931ea3e3b7"
      },
      "execution_count": 38,
      "outputs": [
        {
          "output_type": "stream",
          "name": "stdout",
          "text": [
            "輸入數字:1\n",
            "hello\n"
          ]
        }
      ]
    },
    {
      "cell_type": "code",
      "source": [
        "a = set()\n",
        "b = set([1,2,3,4,5,1,2,3,4,5])\n",
        "c = set({'x':1,'y':2,'z':3})\n",
        "d = set('hello')"
      ],
      "metadata": {
        "id": "C1F6i0zshPCr"
      },
      "execution_count": 22,
      "outputs": []
    },
    {
      "cell_type": "code",
      "source": [
        "a = []\n",
        "for i in  range(1,10):\n",
        "  a.append(i*i)\n",
        "print(a)\n",
        "b=[j*j  for j in  range(1,10)]\n",
        "print(b)"
      ],
      "metadata": {
        "colab": {
          "base_uri": "https://localhost:8080/"
        },
        "id": "WGtRLEnwuUYa",
        "outputId": "14e6b58a-2e9a-4e61-c493-535034863aba"
      },
      "execution_count": 40,
      "outputs": [
        {
          "output_type": "stream",
          "name": "stdout",
          "text": [
            "[1, 4, 9, 16, 25, 36, 49, 64, 81]\n",
            "[1, 4, 9, 16, 25, 36, 49, 64, 81]\n"
          ]
        }
      ]
    },
    {
      "cell_type": "code",
      "source": [
        "a = dict(name='oxxo', age=18, eat=['apple','banana'])\n",
        "print(a)\n",
        "print(type(a))"
      ],
      "metadata": {
        "colab": {
          "base_uri": "https://localhost:8080/"
        },
        "id": "NmNO4iEqfhd-",
        "outputId": "2db2add4-048b-4481-d26d-7bdb0bd07c38"
      },
      "execution_count": 21,
      "outputs": [
        {
          "output_type": "stream",
          "name": "stdout",
          "text": [
            "{'name': 'oxxo', 'age': 18, 'eat': ['apple', 'banana']}\n",
            "<class 'dict'>\n"
          ]
        }
      ]
    },
    {
      "cell_type": "code",
      "source": [
        "a=['apple','banana','orange']\n",
        "b=[1,2,3,4,5]\n",
        "c=['apple',1,2,3,['dog','cat']]\n",
        "d=list('apple')"
      ],
      "metadata": {
        "id": "doTrQJZpbgpI"
      },
      "execution_count": null,
      "outputs": []
    }
  ]
}